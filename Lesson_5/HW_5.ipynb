{
 "cells": [
  {
   "cell_type": "markdown",
   "metadata": {},
   "source": [
    "1. Напишите код, моделирующий выпадение поля в рулетке (с учетом поля зеро)."
   ]
  },
  {
   "cell_type": "code",
   "execution_count": 1,
   "metadata": {},
   "outputs": [],
   "source": [
    "import numpy as np\n",
    "import matplotlib.pyplot as plt"
   ]
  },
  {
   "cell_type": "code",
   "execution_count": 35,
   "metadata": {},
   "outputs": [],
   "source": [
    "%matplotlib inline"
   ]
  },
  {
   "cell_type": "code",
   "execution_count": 11,
   "metadata": {},
   "outputs": [
    {
     "name": "stdout",
     "output_type": "stream",
     "text": [
      "\n",
      "10\n",
      "red\n",
      "\n",
      "13\n",
      "red\n",
      "\n",
      "17\n",
      "black\n",
      "\n",
      "25\n",
      "black\n",
      "\n",
      "20\n",
      "red\n"
     ]
    }
   ],
   "source": [
    "for i in range(0, 5):\n",
    "    a = input()\n",
    "    num = np.random.randint(0, 37)\n",
    "    print(num)\n",
    "    x = np.random.uniform(0, 100)\n",
    "    if num == 0:\n",
    "        print('zero')\n",
    "    elif x < 50:\n",
    "        print('red')\n",
    "    else:\n",
    "        print('black')    "
   ]
  },
  {
   "cell_type": "markdown",
   "metadata": {},
   "source": [
    "2. \n",
    "1)Напишите код, проверяющий любую из теорем сложения или умножения вероятности на примере рулетки или подбрасывания монетки.\n"
   ]
  },
  {
   "cell_type": "code",
   "execution_count": 14,
   "metadata": {},
   "outputs": [
    {
     "name": "stdout",
     "output_type": "stream",
     "text": [
      "True\n",
      "53 47 100\n"
     ]
    }
   ],
   "source": [
    "k,m,l = 0, 0, 0\n",
    "n = 100\n",
    "for i in range(0, n):\n",
    "    x = np.random.uniform(0, 10)\n",
    "    l=l+1\n",
    "    if x<5:\n",
    "        k = k + 1 \n",
    "    else:\n",
    "        m = m + 1\n",
    "if k+m==l:\n",
    "  print(True)\n",
    "else:\n",
    "  print(False)\n",
    "print(k,m,l)"
   ]
  },
  {
   "cell_type": "markdown",
   "metadata": {},
   "source": [
    "2. \n",
    "2)Сгенерируйте десять выборок случайных чисел х0, …, х9.\n",
    "и постройте гистограмму распределения случайной суммы  +х0+ …+ х 9. "
   ]
  },
  {
   "cell_type": "code",
   "execution_count": 38,
   "metadata": {},
   "outputs": [
    {
     "name": "stdout",
     "output_type": "stream",
     "text": [
      "[51, 76, 59, 48, 58, 53, 45, 64, 51, 61]\n"
     ]
    },
    {
     "data": {
      "image/png": "[encoded data removed]",
      "text/plain": [
       "<Figure size 432x288 with 1 Axes>"
      ]
     },
     "metadata": {
      "needs_background": "light"
     },
     "output_type": "display_data"
    }
   ],
   "source": [
    "sum_list = []\n",
    "for i in range(0, 10):\n",
    "    num = np.random.randint(1, 11, size=10)\n",
    "    num_sum = np.sum(num)\n",
    "    sum_list.append(num_sum)\n",
    "print(sum_list)\n",
    "\n",
    "plt.hist(sum_list, bins=10)\n",
    "plt.show()"
   ]
  },
  {
   "cell_type": "markdown",
   "metadata": {},
   "source": [
    "3.\n",
    "1) Дополните код Монте-Карло последовательности независимых испытаний расчетом соответствующих вероятностей (через биномиальное распределение) \n",
    "и сравните результаты."
   ]
  },
  {
   "cell_type": "code",
   "execution_count": 46,
   "metadata": {},
   "outputs": [
    {
     "name": "stdout",
     "output_type": "stream",
     "text": [
      "3774 10000 0.3774\n"
     ]
    }
   ],
   "source": [
    "k, n = 0, 10000\n",
    "a = np.random.randint(0, 2, n)\n",
    "b = np.random.randint(0, 2, n)\n",
    "c = np.random.randint(0, 2, n)\n",
    "d = np.random.randint(0, 2, n)\n",
    "x = a + b + c + d\n",
    "for i in range(0, n):\n",
    "    if x[i]==2:\n",
    "        k = k + 1\n",
    "print(k, n, k/n)        "
   ]
  },
  {
   "cell_type": "code",
   "execution_count": 4,
   "metadata": {},
   "outputs": [],
   "source": [
    "from math import factorial\n",
    "def combinations(n, k):\n",
    "    return int(factorial(n) / (factorial(k) * factorial(n - k)))"
   ]
  },
  {
   "cell_type": "code",
   "execution_count": 48,
   "metadata": {},
   "outputs": [
    {
     "data": {
      "text/plain": [
       "0.0"
      ]
     },
     "execution_count": 48,
     "metadata": {},
     "output_type": "execute_result"
    }
   ],
   "source": [
    "n = 10000\n",
    "C = combinations(4, 2)\n",
    "P = C / 2**n\n",
    "P"
   ]
  },
  {
   "cell_type": "markdown",
   "metadata": {},
   "source": [
    "3.2)Повторите расчеты биномиальных коэффициентов и вероятностей k успехов в последовательности из n независимых испытаний, взяв другие значения n и k.\n"
   ]
  },
  {
   "cell_type": "code",
   "execution_count": 51,
   "metadata": {},
   "outputs": [
    {
     "data": {
      "text/plain": [
       "1.221974545399842e-150"
      ]
     },
     "execution_count": 51,
     "metadata": {},
     "output_type": "execute_result"
    }
   ],
   "source": [
    "n = 500\n",
    "C = combinations(4, 3)\n",
    "P = C / 2**n\n",
    "P"
   ]
  },
  {
   "cell_type": "code",
   "execution_count": 52,
   "metadata": {},
   "outputs": [
    {
     "data": {
      "text/plain": [
       "3.814697265625e-06"
      ]
     },
     "execution_count": 52,
     "metadata": {},
     "output_type": "execute_result"
    }
   ],
   "source": [
    "n = 20\n",
    "C = combinations(4, 1)\n",
    "P = C / 2**n\n",
    "P"
   ]
  },
  {
   "cell_type": "markdown",
   "metadata": {},
   "source": [
    "4. (не обязательно, но желательно) Из урока по комбинаторике повторите расчеты, сгенерировав возможные варианты перестановок для других значений n и k\n"
   ]
  },
  {
   "cell_type": "code",
   "execution_count": 2,
   "metadata": {},
   "outputs": [
    {
     "name": "stdout",
     "output_type": "stream",
     "text": [
      "012\n",
      "013\n",
      "021\n",
      "023\n",
      "031\n",
      "032\n",
      "102\n",
      "103\n",
      "120\n",
      "123\n",
      "130\n",
      "132\n",
      "201\n",
      "203\n",
      "210\n",
      "213\n",
      "230\n",
      "231\n",
      "301\n",
      "302\n",
      "310\n",
      "312\n",
      "320\n",
      "321\n"
     ]
    }
   ],
   "source": [
    "import itertools\n",
    "for p in itertools.permutations('0123', 3):\n",
    "    print(''.join(p))"
   ]
  },
  {
   "cell_type": "code",
   "execution_count": 3,
   "metadata": {},
   "outputs": [
    {
     "name": "stdout",
     "output_type": "stream",
     "text": [
      "012\n",
      "013\n",
      "023\n",
      "123\n"
     ]
    }
   ],
   "source": [
    "import itertools\n",
    "for p in itertools.combinations('0123', 3):\n",
    "    print(''.join(p))"
   ]
  },
  {
   "cell_type": "code",
   "execution_count": 6,
   "metadata": {},
   "outputs": [
    {
     "name": "stdout",
     "output_type": "stream",
     "text": [
      "0123\n",
      "0132\n",
      "0213\n",
      "0231\n",
      "0312\n",
      "0321\n",
      "1023\n",
      "1032\n",
      "1203\n",
      "1230\n",
      "1302\n",
      "1320\n",
      "2013\n",
      "2031\n",
      "2103\n",
      "2130\n",
      "2301\n",
      "2310\n",
      "3012\n",
      "3021\n",
      "3102\n",
      "3120\n",
      "3201\n",
      "3210\n"
     ]
    }
   ],
   "source": [
    "for p in itertools.permutations('0123', 4):\n",
    "    print(''.join(p))"
   ]
  },
  {
   "cell_type": "markdown",
   "metadata": {},
   "source": [
    "5. (не обязательно) Дополните код расчетом коэффициента корреляции x и y по формуле"
   ]
  },
  {
   "cell_type": "code",
   "execution_count": 10,
   "metadata": {},
   "outputs": [
    {
     "name": "stdout",
     "output_type": "stream",
     "text": [
      "0.7082542633864545 0.1481565875305163\n",
      "0.7082542633864533 0.14815658753051705\n",
      "[[1.        0.8932029]\n",
      " [0.8932029 1.       ]]\n",
      "0.893202899314077\n"
     ]
    },
    {
     "name": "stderr",
     "output_type": "stream",
     "text": [
      "C:\\Programs\\Anaconda3\\lib\\site-packages\\ipykernel_launcher.py:14: FutureWarning: `rcond` parameter will change to the default of machine precision times ``max(M, N)`` where M and N are the input matrix dimensions.\n",
      "To use the future default and silence this warning we advise to pass `rcond=None`, to keep using the old, explicitly pass `rcond=-1`.\n",
      "  \n"
     ]
    },
    {
     "data": {
      "image/png": "[encoded data removed]",
      "text/plain": [
       "<Figure size 432x288 with 1 Axes>"
      ]
     },
     "metadata": {
      "needs_background": "light"
     },
     "output_type": "display_data"
    }
   ],
   "source": [
    "n = 100\n",
    "r = 0.7\n",
    "x = np.random.rand(n)\n",
    "y = r*x + (1 - r)*np.random.rand(n)\n",
    "plt.plot(x, y, 'o')\n",
    "plt.xlabel('x')\n",
    "plt.ylabel('y')\n",
    "plt.grid(True)\n",
    "\n",
    "a = (np.sum(x)*np.sum(y) - n*np.sum(x*y))/(np.sum(x)*np.sum(x) - n*np.sum(x*x))\n",
    "b = (np.sum(y) - a*np.sum(x))/n\n",
    "\n",
    "A = np.vstack([x, np.ones(len(x))]).T\n",
    "a1, b1 = np.linalg.lstsq(A, y)[0]\n",
    "print(a, b)\n",
    "print(a1, b1)\n",
    "c = np.corrcoef(x, y)\n",
    "corr = (np.sum((x-np.mean(x))*(y-np.mean(y)))) / (np.sqrt(np.sum((x-np.mean(x))**2)*np.sum((y-np.mean(y))**2)))\n",
    "print(c)\n",
    "print(corr)\n",
    "plt.plot([0, 1], [b, a + b])\n",
    "plt.show()\n"
   ]
  },
  {
   "cell_type": "code",
   "execution_count": null,
   "metadata": {},
   "outputs": [],
   "source": []
  }
 ],
 "metadata": {
  "kernelspec": {
   "display_name": "Python 3",
   "language": "python",
   "name": "python3"
  },
  "language_info": {
   "codemirror_mode": {
    "name": "ipython",
    "version": 3
   },
   "file_extension": ".py",
   "mimetype": "text/x-python",
   "name": "python",
   "nbconvert_exporter": "python",
   "pygments_lexer": "ipython3",
   "version": "3.7.4"
  }
 },
 "nbformat": 4,
 "nbformat_minor": 2
}
